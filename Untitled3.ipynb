{
  "nbformat": 4,
  "nbformat_minor": 0,
  "metadata": {
    "colab": {
      "provenance": []
    },
    "kernelspec": {
      "name": "python3",
      "display_name": "Python 3"
    },
    "language_info": {
      "name": "python"
    }
  },
  "cells": [
    {
      "cell_type": "code",
      "execution_count": null,
      "metadata": {
        "id": "tJYPgP_J4gz-"
      },
      "outputs": [],
      "source": []
    },
    {
      "cell_type": "markdown",
      "source": [
        "24.How do you create a basic Flask application?"
      ],
      "metadata": {
        "id": "LZkISOI_4i4J"
      }
    },
    {
      "cell_type": "code",
      "source": [
        "from flask import Flask\n",
        "\n",
        "app = Flask(__name__)\n",
        "\n",
        "@app.route('/')\n",
        "def home():\n",
        "    return \"Hello, Flask!\"\n",
        "\n",
        "if __name__ == '__main__':\n",
        "    app.run(debug=True)\n"
      ],
      "metadata": {
        "colab": {
          "base_uri": "https://localhost:8080/"
        },
        "id": "GwzALlHr5Eij",
        "outputId": "40c22650-54f0-4c7e-b80e-38d0d3e4da13"
      },
      "execution_count": null,
      "outputs": [
        {
          "output_type": "stream",
          "name": "stdout",
          "text": [
            " * Serving Flask app '__main__'\n",
            " * Debug mode: on\n"
          ]
        },
        {
          "output_type": "stream",
          "name": "stderr",
          "text": [
            "INFO:werkzeug:\u001b[31m\u001b[1mWARNING: This is a development server. Do not use it in a production deployment. Use a production WSGI server instead.\u001b[0m\n",
            " * Running on http://127.0.0.1:5000\n",
            "INFO:werkzeug:\u001b[33mPress CTRL+C to quit\u001b[0m\n",
            "INFO:werkzeug: * Restarting with stat\n"
          ]
        }
      ]
    },
    {
      "cell_type": "markdown",
      "source": [
        "25. How do you serve static files like images or CSS in Flask?"
      ],
      "metadata": {
        "id": "tX0wh7Lc5FKH"
      }
    },
    {
      "cell_type": "code",
      "source": [
        "<link rel=\"stylesheet\" href=\"{{ url_for('static', filename='style.css') }}\">\n",
        "<img src=\"{{ url_for('static', filename='logo.png') }}\">\n"
      ],
      "metadata": {
        "id": "CY3QNVcR5XkT"
      },
      "execution_count": null,
      "outputs": []
    },
    {
      "cell_type": "markdown",
      "source": [
        "26.How do you define different routes with different HTTP methods in Flask?"
      ],
      "metadata": {
        "id": "Q4QKlKMS5dEl"
      }
    },
    {
      "cell_type": "code",
      "source": [
        "@app.route('/submit', methods=['GET', 'POST'])\n",
        "def submit():\n",
        "    if request.method == 'POST':\n",
        "        return \"Submitted via POST\"\n",
        "    return \"Form via GET\"\n"
      ],
      "metadata": {
        "id": "DMwfb0nh5geW"
      },
      "execution_count": null,
      "outputs": []
    },
    {
      "cell_type": "markdown",
      "source": [
        "27.How do you render HTML templates in Flask?"
      ],
      "metadata": {
        "id": "NBkQpv9Z5j3d"
      }
    },
    {
      "cell_type": "code",
      "source": [
        "from flask import render_template\n",
        "\n",
        "@app.route('/')\n",
        "def home():\n",
        "    return render_template('index.html')\n"
      ],
      "metadata": {
        "id": "3i3lhRmM5pmu"
      },
      "execution_count": null,
      "outputs": []
    },
    {
      "cell_type": "markdown",
      "source": [
        "28.How can you generate URLs for routes in Flask using url_for()?"
      ],
      "metadata": {
        "id": "2zwqjASR5tCN"
      }
    },
    {
      "cell_type": "code",
      "source": [
        "@app.route('/about')\n",
        "def about():\n",
        "    return \"About Page\"\n",
        "\n",
        "@app.route('/')\n",
        "def home():\n",
        "    return redirect(url_for('about'))\n"
      ],
      "metadata": {
        "id": "cBQqaA4K5uRT"
      },
      "execution_count": null,
      "outputs": []
    },
    {
      "cell_type": "markdown",
      "source": [
        "29.How do you handle forms in Flask?"
      ],
      "metadata": {
        "id": "vFpLE2lF5zSd"
      }
    },
    {
      "cell_type": "code",
      "source": [
        "@app.route('/form', methods=['GET', 'POST'])\n",
        "def form():\n",
        "    if request.method == 'POST':\n",
        "        name = request.form['name']\n",
        "        return f\"Hello, {name}\"\n",
        "    return render_template('form.html')\n"
      ],
      "metadata": {
        "id": "PvlJtIth5yxs"
      },
      "execution_count": null,
      "outputs": []
    },
    {
      "cell_type": "markdown",
      "source": [
        "30. How can you validate form data in Flask?"
      ],
      "metadata": {
        "id": "ljV76O3V52B8"
      }
    },
    {
      "cell_type": "code",
      "source": [
        "if not request.form.get('name'):\n",
        "    error = \"Name is required\"\n"
      ],
      "metadata": {
        "id": "s7eF4OGJ5-o-"
      },
      "execution_count": null,
      "outputs": []
    },
    {
      "cell_type": "code",
      "source": [
        "from flask_wtf import FlaskForm\n",
        "from wtforms import StringField, SubmitField\n",
        "from wtforms.validators import DataRequired\n",
        "\n",
        "class MyForm(FlaskForm):\n",
        "    name = StringField('Name', validators=[DataRequired()])\n",
        "    submit = SubmitField('Submit')\n"
      ],
      "metadata": {
        "id": "I6U2rO3F6B2A"
      },
      "execution_count": null,
      "outputs": []
    },
    {
      "cell_type": "markdown",
      "source": [
        "31. How do you manage sessions in Flask?"
      ],
      "metadata": {
        "id": "ZgAcRDhk6Duf"
      }
    },
    {
      "cell_type": "code",
      "source": [
        "from flask import session\n",
        "\n",
        "app.secret_key = 'secret'\n",
        "\n",
        "@app.route('/login', methods=['POST'])\n",
        "def login():\n",
        "    session['user'] = request.form['user']\n",
        "    return redirect(url_for('dashboard'))\n",
        "\n",
        "@app.route('/dashboard')\n",
        "def dashboard():\n",
        "    return f\"Welcome {session.get('user')}\"\n"
      ],
      "metadata": {
        "id": "S2GTGsRk6G-t"
      },
      "execution_count": null,
      "outputs": []
    },
    {
      "cell_type": "markdown",
      "source": [
        "32.  How do you redirect to a different route in Flask?"
      ],
      "metadata": {
        "id": "9WvDkGRG6I9z"
      }
    },
    {
      "cell_type": "code",
      "source": [
        "from flask import redirect, url_for\n",
        "\n",
        "@app.route('/')\n",
        "def index():\n",
        "    return redirect(url_for('home'))\n",
        "\n",
        "@app.route('/home')\n",
        "def home():\n",
        "    return \"Welcome Home\"\n"
      ],
      "metadata": {
        "id": "EvOObiIr6LL7"
      },
      "execution_count": null,
      "outputs": []
    },
    {
      "cell_type": "markdown",
      "source": [
        "33. How do you handle errors in Flask (e.g., 404)?"
      ],
      "metadata": {
        "id": "_2IU0e6a6PFt"
      }
    },
    {
      "cell_type": "code",
      "source": [
        "@app.errorhandler(404)\n",
        "def page_not_found(e):\n",
        "    return \"404 - Page Not Found\", 404\n"
      ],
      "metadata": {
        "id": "KZZONnrw6UD3"
      },
      "execution_count": null,
      "outputs": []
    },
    {
      "cell_type": "markdown",
      "source": [
        "34. How do you structure a Flask app using Blueprints?"
      ],
      "metadata": {
        "id": "c5k_VtqK6YUK"
      }
    },
    {
      "cell_type": "code",
      "source": [
        "from flask import Blueprint\n",
        "\n",
        "main = Blueprint('main', __name__)\n",
        "\n",
        "@main.route('/')\n",
        "def home():\n",
        "    return \"Home Page\"\n"
      ],
      "metadata": {
        "id": "JgiuZJVq6Z8H"
      },
      "execution_count": null,
      "outputs": []
    },
    {
      "cell_type": "code",
      "source": [
        "def create_app():\n",
        "    app = Flask(__name__)\n",
        "    app.register_blueprint(main)\n",
        "    return app\n"
      ],
      "metadata": {
        "id": "Jz9fmaa96fzO"
      },
      "execution_count": null,
      "outputs": []
    },
    {
      "cell_type": "markdown",
      "source": [
        "35.How do you define a custom Jinja filter in Flask?"
      ],
      "metadata": {
        "id": "xflRQ3Be6jqE"
      }
    },
    {
      "cell_type": "code",
      "source": [
        "@app.template_filter('reverse')\n",
        "def reverse_string(s):\n",
        "    return s[::-1]\n"
      ],
      "metadata": {
        "id": "6JBwZ3X56qQ9"
      },
      "execution_count": null,
      "outputs": []
    },
    {
      "cell_type": "code",
      "source": [
        "{{ \"hello\" | reverse }}  {# Output: olleh #}\n"
      ],
      "metadata": {
        "id": "xhwy0G2h6sU3"
      },
      "execution_count": null,
      "outputs": []
    },
    {
      "cell_type": "markdown",
      "source": [
        "36. How can you redirect with query parameters in Flask?"
      ],
      "metadata": {
        "id": "kbMwaSxP6ukr"
      }
    },
    {
      "cell_type": "code",
      "source": [
        "@app.route('/')\n",
        "def index():\n",
        "    return redirect(url_for('hello', name='John'))\n",
        "\n",
        "@app.route('/hello')\n",
        "def hello():\n",
        "    return f\"Hello, {request.args.get('name')}\"\n"
      ],
      "metadata": {
        "id": "f7K0VBOK6xkg"
      },
      "execution_count": null,
      "outputs": []
    },
    {
      "cell_type": "markdown",
      "source": [
        "37. How do you return JSON responses in Flask?"
      ],
      "metadata": {
        "id": "hO4h45Fl61yb"
      }
    },
    {
      "cell_type": "code",
      "source": [
        "from flask import jsonify\n",
        "\n",
        "@app.route('/api')\n",
        "def api():\n",
        "    return jsonify(name=\"Flask\", version=2.0)\n"
      ],
      "metadata": {
        "id": "iBI98Sl265ZS"
      },
      "execution_count": null,
      "outputs": []
    },
    {
      "cell_type": "markdown",
      "source": [
        "38. How do you capture URL parameters in Flask?"
      ],
      "metadata": {
        "id": "6AkYdQX267_-"
      }
    },
    {
      "cell_type": "code",
      "source": [
        "@app.route('/user/<username>')\n",
        "def user_profile(username):\n",
        "    return f\"User: {username}\"\n",
        "\n",
        "@app.route('/post/<int:id>')\n",
        "def post(id):\n",
        "    return f\"Post ID: {id}\"\n"
      ],
      "metadata": {
        "id": "jf_x1HGm7C7l"
      },
      "execution_count": null,
      "outputs": []
    }
  ]
}