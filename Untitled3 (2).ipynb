{
  "nbformat": 4,
  "nbformat_minor": 0,
  "metadata": {
    "colab": {
      "provenance": []
    },
    "kernelspec": {
      "name": "python3",
      "display_name": "Python 3"
    },
    "language_info": {
      "name": "python"
    }
  },
  "cells": [
    {
      "cell_type": "code",
      "execution_count": null,
      "metadata": {
        "id": "tJYPgP_J4gz-"
      },
      "outputs": [],
      "source": []
    },
    {
      "cell_type": "markdown",
      "source": [
        "**1. What is a RESTful API?**\n",
        "\n",
        "A RESTful API is a web service that follows REST architecture, using HTTP methods to perform operations on resources identified by URLs.\n",
        "\n",
        "**2. Explain the concept of API specification.**\n",
        "\n",
        "An API specification defines the structure, endpoints, request/response formats, and behavior of an API, enabling consistent integration.\n",
        "\n",
        "**3. What is Flask, and why is it popular for building APIs?**\n",
        "\n",
        "Flask is a lightweight Python web framework known for its simplicity and flexibility, making it ideal for quickly building APIs.\n",
        "\n",
        "**4. What is routing in Flask?**\n",
        "\n",
        "Routing in Flask maps URLs to specific functions in your application, determining how requests are handled.\n",
        "\n",
        "**5. How do you create a simple Flask application?**\n",
        "\n",
        "Import Flask, create an app instance, define routes using `@app.route()`, and run the app with `app.run()`.\n",
        "\n",
        "**6. What are HTTP methods used in RESTful APIs?**\n",
        "\n",
        "Common methods include GET, POST, PUT, DELETE, and PATCH, each used for specific CRUD operations.\n",
        "\n",
        "**7. What is the purpose of the @app.route() decorator in Flask?**\n",
        "\n",
        "It links a URL path to a function, defining how Flask handles a particular HTTP request.\n",
        "\n",
        "**8. What is the difference between GET and POST HTTP methods?**\n",
        "\n",
        "GET retrieves data without altering the server state, while POST sends data to create or modify resources.\n",
        "\n",
        "**9. How do you handle errors in Flask APIs?**\n",
        "\n",
        "Use `@app.errorhandler()` or `abort()` to catch and return custom error messages and status codes.\n",
        "\n",
        "**10. How do you connect Flask to a SQL database?**\n",
        "\n",
        "Use libraries like Flask-SQLAlchemy to define models and manage database connections easily.\n",
        "\n",
        "**11. What is the role of Flask-SQLAlchemy?**\n",
        "\n",
        "It integrates SQLAlchemy with Flask, providing ORM support for easier database operations.\n",
        "\n",
        "**12. What are Flask blueprints, and how are they useful?**\n",
        "\n",
        "Blueprints allow modular organization of Flask apps by grouping routes and logic into reusable components.\n",
        "\n",
        "**13. What is the purpose of Flask's request object?**\n",
        "\n",
        "It provides access to incoming request data like form inputs, JSON payloads, headers, and query parameters.\n",
        "\n",
        "**14. How do you create a RESTful API endpoint using Flask?**\n",
        "\n",
        "Define a route with `@app.route()` and implement the function to handle requests using proper HTTP methods.\n",
        "\n",
        "**15. What is the purpose of Flask's jsonify() function?**\n",
        "\n",
        "It converts Python dictionaries to JSON responses with the correct content type for APIs.\n",
        "\n",
        "**16. Explain Flask’s url\\_for() function.**\n",
        "\n",
        "`url_for()` generates URLs for routes based on function names, making navigation and linking dynamic and maintainable.\n",
        "\n",
        "**17. How does Flask handle static files (CSS, JavaScript, etc.)?**\n",
        "\n",
        "Flask serves static files from the `static/` directory automatically when referenced in templates or routes.\n",
        "\n",
        "**18. What is an API specification, and how does it help in building a Flask API?**\n",
        "\n",
        "It serves as a blueprint detailing how the API works, ensuring consistent development and integration.\n",
        "\n",
        "**19. What are HTTP status codes, and why are they important in a Flask API?**\n",
        "\n",
        "They indicate the result of a request (e.g., 200 OK, 404 Not Found), guiding clients on how to handle responses.\n",
        "\n",
        "**20. How do you handle POST requests in Flask?**\n",
        "\n",
        "Use `@app.route()` with `methods=['POST']` and access form or JSON data from `request.form` or `request.json`.\n",
        "\n",
        "**21. How would you secure a Flask API?**\n",
        "\n",
        "Implement authentication (e.g., JWT), HTTPS, input validation, and rate limiting to prevent unauthorized access.\n",
        "\n",
        "**22. What is the significance of the Flask-RESTful extension?**\n",
        "\n",
        "It simplifies building REST APIs in Flask by providing resource routing and request parsing tools.\n",
        "\n",
        "**23. What is the role of Flask’s session object?**\n",
        "\n",
        "It stores data (like user login info) across requests using secure cookies to maintain user sessions.\n",
        "\n"
      ],
      "metadata": {
        "id": "vTMMoli3_Ckp"
      }
    },
    {
      "cell_type": "markdown",
      "source": [
        "24.How do you create a basic Flask application?"
      ],
      "metadata": {
        "id": "LZkISOI_4i4J"
      }
    },
    {
      "cell_type": "code",
      "source": [
        "from flask import Flask\n",
        "\n",
        "app = Flask(__name__)\n",
        "\n",
        "@app.route('/')\n",
        "def home():\n",
        "    return \"Hello, Flask!\"\n",
        "\n",
        "if __name__ == '__main__':\n",
        "    app.run(debug=True)\n"
      ],
      "metadata": {
        "colab": {
          "base_uri": "https://localhost:8080/"
        },
        "id": "GwzALlHr5Eij",
        "outputId": "8eb8d208-a671-499f-80a2-044fa7840126"
      },
      "execution_count": 1,
      "outputs": [
        {
          "metadata": {
            "tags": null
          },
          "name": "stdout",
          "output_type": "stream",
          "text": [
            " * Serving Flask app '__main__'\n",
            " * Debug mode: on\n"
          ]
        },
        {
          "metadata": {
            "tags": null
          },
          "name": "stderr",
          "output_type": "stream",
          "text": [
            "INFO:werkzeug:\u001b[31m\u001b[1mWARNING: This is a development server. Do not use it in a production deployment. Use a production WSGI server instead.\u001b[0m\n",
            " * Running on http://127.0.0.1:5000\n",
            "INFO:werkzeug:\u001b[33mPress CTRL+C to quit\u001b[0m\n",
            "INFO:werkzeug: * Restarting with stat\n"
          ]
        }
      ]
    },
    {
      "cell_type": "markdown",
      "source": [
        "25. How do you serve static files like images or CSS in Flask?"
      ],
      "metadata": {
        "id": "tX0wh7Lc5FKH"
      }
    },
    {
      "cell_type": "code",
      "source": [
        "<link rel=\"stylesheet\" href=\"{{ url_for('static', filename='style.css') }}\">\n",
        "<img src=\"{{ url_for('static', filename='logo.png') }}\">\n"
      ],
      "metadata": {
        "id": "CY3QNVcR5XkT"
      },
      "execution_count": null,
      "outputs": []
    },
    {
      "cell_type": "markdown",
      "source": [
        "26.How do you define different routes with different HTTP methods in Flask?"
      ],
      "metadata": {
        "id": "Q4QKlKMS5dEl"
      }
    },
    {
      "cell_type": "code",
      "source": [
        "@app.route('/submit', methods=['GET', 'POST'])\n",
        "def submit():\n",
        "    if request.method == 'POST':\n",
        "        return \"Submitted via POST\"\n",
        "    return \"Form via GET\"\n"
      ],
      "metadata": {
        "id": "DMwfb0nh5geW"
      },
      "execution_count": null,
      "outputs": []
    },
    {
      "cell_type": "markdown",
      "source": [
        "27.How do you render HTML templates in Flask?"
      ],
      "metadata": {
        "id": "NBkQpv9Z5j3d"
      }
    },
    {
      "cell_type": "code",
      "source": [
        "from flask import render_template\n",
        "\n",
        "@app.route('/')\n",
        "def home():\n",
        "    return render_template('index.html')\n"
      ],
      "metadata": {
        "id": "3i3lhRmM5pmu"
      },
      "execution_count": null,
      "outputs": []
    },
    {
      "cell_type": "markdown",
      "source": [
        "28.How can you generate URLs for routes in Flask using url_for()?"
      ],
      "metadata": {
        "id": "2zwqjASR5tCN"
      }
    },
    {
      "cell_type": "code",
      "source": [
        "@app.route('/about')\n",
        "def about():\n",
        "    return \"About Page\"\n",
        "\n",
        "@app.route('/')\n",
        "def home():\n",
        "    return redirect(url_for('about'))\n"
      ],
      "metadata": {
        "id": "cBQqaA4K5uRT"
      },
      "execution_count": null,
      "outputs": []
    },
    {
      "cell_type": "markdown",
      "source": [
        "29.How do you handle forms in Flask?"
      ],
      "metadata": {
        "id": "vFpLE2lF5zSd"
      }
    },
    {
      "cell_type": "code",
      "source": [
        "@app.route('/form', methods=['GET', 'POST'])\n",
        "def form():\n",
        "    if request.method == 'POST':\n",
        "        name = request.form['name']\n",
        "        return f\"Hello, {name}\"\n",
        "    return render_template('form.html')\n"
      ],
      "metadata": {
        "id": "PvlJtIth5yxs"
      },
      "execution_count": null,
      "outputs": []
    },
    {
      "cell_type": "markdown",
      "source": [
        "30. How can you validate form data in Flask?"
      ],
      "metadata": {
        "id": "ljV76O3V52B8"
      }
    },
    {
      "cell_type": "code",
      "source": [
        "if not request.form.get('name'):\n",
        "    error = \"Name is required\"\n"
      ],
      "metadata": {
        "id": "s7eF4OGJ5-o-",
        "colab": {
          "base_uri": "https://localhost:8080/",
          "height": 159
        },
        "outputId": "615aad36-83aa-40c5-d20e-32d9abb52785"
      },
      "execution_count": 2,
      "outputs": [
        {
          "output_type": "error",
          "ename": "NameError",
          "evalue": "name 'request' is not defined",
          "traceback": [
            "\u001b[0;31m---------------------------------------------------------------------------\u001b[0m",
            "\u001b[0;31mNameError\u001b[0m                                 Traceback (most recent call last)",
            "\u001b[0;32m<ipython-input-2-33f3ffc712ca>\u001b[0m in \u001b[0;36m<cell line: 0>\u001b[0;34m()\u001b[0m\n\u001b[0;32m----> 1\u001b[0;31m \u001b[0;32mif\u001b[0m \u001b[0;32mnot\u001b[0m \u001b[0mrequest\u001b[0m\u001b[0;34m.\u001b[0m\u001b[0mform\u001b[0m\u001b[0;34m.\u001b[0m\u001b[0mget\u001b[0m\u001b[0;34m(\u001b[0m\u001b[0;34m'name'\u001b[0m\u001b[0;34m)\u001b[0m\u001b[0;34m:\u001b[0m\u001b[0;34m\u001b[0m\u001b[0;34m\u001b[0m\u001b[0m\n\u001b[0m\u001b[1;32m      2\u001b[0m     \u001b[0merror\u001b[0m \u001b[0;34m=\u001b[0m \u001b[0;34m\"Name is required\"\u001b[0m\u001b[0;34m\u001b[0m\u001b[0;34m\u001b[0m\u001b[0m\n",
            "\u001b[0;31mNameError\u001b[0m: name 'request' is not defined"
          ]
        }
      ]
    },
    {
      "cell_type": "code",
      "source": [
        "from flask_wtf import FlaskForm\n",
        "from wtforms import StringField, SubmitField\n",
        "from wtforms.validators import DataRequired\n",
        "\n",
        "class MyForm(FlaskForm):\n",
        "    name = StringField('Name', validators=[DataRequired()])\n",
        "    submit = SubmitField('Submit')\n"
      ],
      "metadata": {
        "id": "I6U2rO3F6B2A"
      },
      "execution_count": null,
      "outputs": []
    },
    {
      "cell_type": "markdown",
      "source": [
        "31. How do you manage sessions in Flask?"
      ],
      "metadata": {
        "id": "ZgAcRDhk6Duf"
      }
    },
    {
      "cell_type": "code",
      "source": [
        "from flask import session\n",
        "\n",
        "app.secret_key = 'secret'\n",
        "\n",
        "@app.route('/login', methods=['POST'])\n",
        "def login():\n",
        "    session['user'] = request.form['user']\n",
        "    return redirect(url_for('dashboard'))\n",
        "\n",
        "@app.route('/dashboard')\n",
        "def dashboard():\n",
        "    return f\"Welcome {session.get('user')}\"\n"
      ],
      "metadata": {
        "id": "S2GTGsRk6G-t"
      },
      "execution_count": null,
      "outputs": []
    },
    {
      "cell_type": "markdown",
      "source": [
        "32.  How do you redirect to a different route in Flask?"
      ],
      "metadata": {
        "id": "9WvDkGRG6I9z"
      }
    },
    {
      "cell_type": "code",
      "source": [
        "from flask import redirect, url_for\n",
        "\n",
        "@app.route('/')\n",
        "def index():\n",
        "    return redirect(url_for('home'))\n",
        "\n",
        "@app.route('/home')\n",
        "def home():\n",
        "    return \"Welcome Home\"\n"
      ],
      "metadata": {
        "id": "EvOObiIr6LL7"
      },
      "execution_count": null,
      "outputs": []
    },
    {
      "cell_type": "markdown",
      "source": [
        "33. How do you handle errors in Flask (e.g., 404)?"
      ],
      "metadata": {
        "id": "_2IU0e6a6PFt"
      }
    },
    {
      "cell_type": "code",
      "source": [
        "@app.errorhandler(404)\n",
        "def page_not_found(e):\n",
        "    return \"404 - Page Not Found\", 404\n"
      ],
      "metadata": {
        "id": "KZZONnrw6UD3"
      },
      "execution_count": null,
      "outputs": []
    },
    {
      "cell_type": "markdown",
      "source": [
        "34. How do you structure a Flask app using Blueprints?"
      ],
      "metadata": {
        "id": "c5k_VtqK6YUK"
      }
    },
    {
      "cell_type": "code",
      "source": [
        "from flask import Blueprint\n",
        "\n",
        "main = Blueprint('main', __name__)\n",
        "\n",
        "@main.route('/')\n",
        "def home():\n",
        "    return \"Home Page\"\n"
      ],
      "metadata": {
        "id": "JgiuZJVq6Z8H"
      },
      "execution_count": null,
      "outputs": []
    },
    {
      "cell_type": "code",
      "source": [
        "def create_app():\n",
        "    app = Flask(__name__)\n",
        "    app.register_blueprint(main)\n",
        "    return app\n"
      ],
      "metadata": {
        "id": "Jz9fmaa96fzO"
      },
      "execution_count": null,
      "outputs": []
    },
    {
      "cell_type": "markdown",
      "source": [
        "35.How do you define a custom Jinja filter in Flask?"
      ],
      "metadata": {
        "id": "xflRQ3Be6jqE"
      }
    },
    {
      "cell_type": "code",
      "source": [
        "@app.template_filter('reverse')\n",
        "def reverse_string(s):\n",
        "    return s[::-1]\n"
      ],
      "metadata": {
        "id": "6JBwZ3X56qQ9"
      },
      "execution_count": null,
      "outputs": []
    },
    {
      "cell_type": "code",
      "source": [
        "{{ \"hello\" | reverse }}  {# Output: olleh #}\n"
      ],
      "metadata": {
        "id": "xhwy0G2h6sU3"
      },
      "execution_count": null,
      "outputs": []
    },
    {
      "cell_type": "markdown",
      "source": [
        "36. How can you redirect with query parameters in Flask?"
      ],
      "metadata": {
        "id": "kbMwaSxP6ukr"
      }
    },
    {
      "cell_type": "code",
      "source": [
        "@app.route('/')\n",
        "def index():\n",
        "    return redirect(url_for('hello', name='John'))\n",
        "\n",
        "@app.route('/hello')\n",
        "def hello():\n",
        "    return f\"Hello, {request.args.get('name')}\"\n"
      ],
      "metadata": {
        "id": "f7K0VBOK6xkg"
      },
      "execution_count": null,
      "outputs": []
    },
    {
      "cell_type": "markdown",
      "source": [
        "37. How do you return JSON responses in Flask?"
      ],
      "metadata": {
        "id": "hO4h45Fl61yb"
      }
    },
    {
      "cell_type": "code",
      "source": [
        "from flask import jsonify\n",
        "\n",
        "@app.route('/api')\n",
        "def api():\n",
        "    return jsonify(name=\"Flask\", version=2.0)\n"
      ],
      "metadata": {
        "id": "iBI98Sl265ZS"
      },
      "execution_count": null,
      "outputs": []
    },
    {
      "cell_type": "markdown",
      "source": [
        "38. How do you capture URL parameters in Flask?"
      ],
      "metadata": {
        "id": "6AkYdQX267_-"
      }
    },
    {
      "cell_type": "code",
      "source": [
        "@app.route('/user/<username>')\n",
        "def user_profile(username):\n",
        "    return f\"User: {username}\"\n",
        "\n",
        "@app.route('/post/<int:id>')\n",
        "def post(id):\n",
        "    return f\"Post ID: {id}\"\n"
      ],
      "metadata": {
        "id": "jf_x1HGm7C7l"
      },
      "execution_count": null,
      "outputs": []
    }
  ]
}